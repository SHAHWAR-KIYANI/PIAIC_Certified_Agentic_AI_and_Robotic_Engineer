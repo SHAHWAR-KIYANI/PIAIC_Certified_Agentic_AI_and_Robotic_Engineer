{
  "nbformat": 4,
  "nbformat_minor": 0,
  "metadata": {
    "colab": {
      "provenance": []
    },
    "kernelspec": {
      "name": "python3",
      "display_name": "Python 3"
    },
    "language_info": {
      "name": "python"
    }
  },
  "cells": [
    {
      "cell_type": "markdown",
      "source": [
        "# Project 6 (CountDown Time)"
      ],
      "metadata": {
        "id": "VDZjD_9Ml9GO"
      }
    },
    {
      "cell_type": "code",
      "execution_count": 3,
      "metadata": {
        "id": "kp6G8d8zfk4q",
        "colab": {
          "base_uri": "https://localhost:8080/"
        },
        "outputId": "79ecb745-4a07-466f-c68c-56d459ecea75"
      },
      "outputs": [
        {
          "output_type": "stream",
          "name": "stdout",
          "text": [
            "==================================================\n",
            "\t\tTIMER PROGRAM\n",
            "==================================================\n",
            "1. Countdown Timer\n",
            "2. Timer Since Epoch\n",
            "3. Exit\n",
            "==================================================\n",
            "Enter your choice (1/2/3): 1\n",
            "Enter the number to start the countdown: 5\n",
            "\n",
            "Starting Countdown Timer...\n",
            "\n",
            "000 Years | 000 Days | 00 Hours | 00 Minutes | 05 Seconds\n",
            "000 Years | 000 Days | 00 Hours | 00 Minutes | 04 Seconds\n",
            "000 Years | 000 Days | 00 Hours | 00 Minutes | 03 Seconds\n",
            "000 Years | 000 Days | 00 Hours | 00 Minutes | 02 Seconds\n",
            "000 Years | 000 Days | 00 Hours | 00 Minutes | 01 Seconds\n",
            "\n",
            "Countdown Completed!\n",
            "\n",
            "Do you want to run the timer again? (yes/y or no/n): y\n",
            "==================================================\n",
            "\t\tTIMER PROGRAM\n",
            "==================================================\n",
            "1. Countdown Timer\n",
            "2. Timer Since Epoch\n",
            "3. Exit\n",
            "==================================================\n",
            "Enter your choice (1/2/3): 3\n",
            "Exiting program. Goodbye!\n"
          ]
        }
      ],
      "source": [
        "import time\n",
        "\n",
        "\n",
        "def display_header():\n",
        "    print(\"=\" * 50)\n",
        "    print(\"\\t\\tTIMER PROGRAM\")\n",
        "    print(\"=\" * 50)\n",
        "\n",
        "\n",
        "def countdown_timer(start_time: int):\n",
        "    print(\"\\nStarting Countdown Timer...\\n\")\n",
        "    for x in range(start_time, 0, -1):\n",
        "        seconds = x % 60\n",
        "        minutes = (x // 60) % 60\n",
        "        hours = (x // 3600) % 24\n",
        "        days = (x // 86400) % 365\n",
        "        years = x // 31536000\n",
        "        print(f\"{years:03} Years | {days:03} Days | {hours:02} Hours | {minutes:02} Minutes | {seconds:02} Seconds\")\n",
        "        time.sleep(1)\n",
        "    print(\"\\nCountdown Completed!\\n\")\n",
        "\n",
        "\n",
        "def timer_since_epoch():\n",
        "    print(\"\\nDisplaying Time Since Epoch...\\n\")\n",
        "    start_time = int(time.time())\n",
        "    countdown_timer(start_time)\n",
        "\n",
        "\n",
        "def main():\n",
        "    while True:\n",
        "        display_header()\n",
        "        print(\"1. Countdown Timer\")\n",
        "        print(\"2. Timer Since Epoch\")\n",
        "        print(\"3. Exit\")\n",
        "        print(\"=\" * 50)\n",
        "\n",
        "        choice = input(\"Enter your choice (1/2/3): \").strip()\n",
        "        if choice == \"1\":\n",
        "            start_time = int(input(\"Enter the number to start the countdown: \"))\n",
        "            countdown_timer(start_time)\n",
        "        elif choice == \"2\":\n",
        "            timer_since_epoch()\n",
        "        elif choice == \"3\":\n",
        "            print(\"Exiting program. Goodbye!\")\n",
        "            break\n",
        "        else:\n",
        "            print(\"Invalid choice. Please enter 1, 2, or 3.\")\n",
        "            continue\n",
        "\n",
        "        retry = input(\"Do you want to run the timer again? (yes/y or no/n): \").strip().lower()\n",
        "        if retry not in ('yes', 'y'):\n",
        "            print(\"Exiting program. Goodbye!\")\n",
        "            break\n",
        "\n",
        "\n",
        "if __name__ == \"__main__\":\n",
        "    main()"
      ]
    }
  ]
}