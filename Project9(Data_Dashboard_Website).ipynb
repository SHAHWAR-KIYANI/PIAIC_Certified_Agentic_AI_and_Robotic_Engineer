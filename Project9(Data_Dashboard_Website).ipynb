{
  "nbformat": 4,
  "nbformat_minor": 0,
  "metadata": {
    "colab": {
      "provenance": [],
      "gpuType": "T4",
      "include_colab_link": true
    },
    "kernelspec": {
      "name": "python3",
      "display_name": "Python 3"
    },
    "language_info": {
      "name": "python"
    },
    "accelerator": "GPU"
  },
  "cells": [
    {
      "cell_type": "markdown",
      "metadata": {
        "id": "view-in-github",
        "colab_type": "text"
      },
      "source": [
        "<a href=\"https://colab.research.google.com/github/SHAHWAR-KIYANI/PIAIC_Certified_Agentic_AI_and_Robotic_Engineer/blob/main/Project9(Data_Dashboard_Website).ipynb\" target=\"_parent\"><img src=\"https://colab.research.google.com/assets/colab-badge.svg\" alt=\"Open In Colab\"/></a>"
      ]
    },
    {
      "cell_type": "markdown",
      "source": [
        "# Project 9 (Data_Dashboard_Website)"
      ],
      "metadata": {
        "id": "3LfAj9iBctBL"
      }
    },
    {
      "cell_type": "code",
      "execution_count": null,
      "metadata": {
        "id": "4xq-gSiLWTpK"
      },
      "outputs": [],
      "source": [
        "!pip install streamlit"
      ]
    },
    {
      "cell_type": "code",
      "source": [
        "!pip install pyngrok"
      ],
      "metadata": {
        "collapsed": true,
        "id": "h3NwQ1zD2fsZ"
      },
      "execution_count": null,
      "outputs": []
    },
    {
      "cell_type": "code",
      "source": [
        "from google.colab import userdata\n",
        "userdata.get('pyngrok_authtoken2')"
      ],
      "metadata": {
        "id": "PgjKNQ5v8hv3",
        "outputId": "ed3f8b21-fa78-450b-ac95-96ff3d71e2e1",
        "colab": {
          "base_uri": "https://localhost:8080/",
          "height": 35
        }
      },
      "execution_count": 20,
      "outputs": [
        {
          "output_type": "execute_result",
          "data": {
            "text/plain": [
              "'2taKW2Q3EAmAKVvtx54Tug1eesc_2DrYsgQvcwFaLR5bDfubY'"
            ],
            "application/vnd.google.colaboratory.intrinsic+json": {
              "type": "string"
            }
          },
          "metadata": {},
          "execution_count": 20
        }
      ]
    },
    {
      "cell_type": "code",
      "source": [
        "!ngrok authtoken 2taKW2Q3EAmAKVvtx54Tug1eesc_2DrYsgQvcwFaLR5bDfubY"
      ],
      "metadata": {
        "id": "JEDgUdQS2oxZ",
        "outputId": "1d25362f-6168-4ee2-a7e6-6c2ef976bdb1",
        "colab": {
          "base_uri": "https://localhost:8080/"
        }
      },
      "execution_count": 21,
      "outputs": [
        {
          "output_type": "stream",
          "name": "stdout",
          "text": [
            "Authtoken saved to configuration file: /root/.config/ngrok/ngrok.yml\n"
          ]
        }
      ]
    },
    {
      "cell_type": "code",
      "source": [
        "from pyngrok import ngrok"
      ],
      "metadata": {
        "id": "60Ops36Q2yoK"
      },
      "execution_count": 22,
      "outputs": []
    },
    {
      "cell_type": "code",
      "source": [
        "%%writefile Data_Dashboard.py\n",
        "import streamlit as st\n",
        "import pandas as pd\n",
        "\n",
        "st.title(\"Data DashBoard\")\n",
        "uploaded_file = st.file_uploader(\"Choose a CSV File\", type=\"CSV\")\n",
        "\n",
        "if uploaded_file is not None:\n",
        "    df = pd.read_csv(uploaded_file)\n",
        "\n",
        "    st.subheader(\"Data Preview\")\n",
        "    st.write(df.head())\n",
        "\n",
        "    st.subheader(\"Data Summary\")\n",
        "    st.write(df.describe())\n",
        "\n",
        "    st.subheader(\"Filter Data\")\n",
        "    columns = list(df.columns)\n",
        "    selected_column = st.selectbox(\"Select Column to Filter By:\", columns)\n",
        "    unique_values = df[selected_column].unique()\n",
        "    selected_value = st.selectbox(\"Select Value:\", unique_values)\n",
        "    filtered_data = df[df[selected_column] == selected_value]\n",
        "    st.write(filtered_data)\n",
        "\n",
        "    st.subheader(\"Plot Data\")\n",
        "    x_column = st.selectbox(\"Select X-Axis Column:\", columns)\n",
        "    y_column = st.selectbox(\"Select Y-Axis Column:\", columns)\n",
        "    if st.button(\"Generate Plot\"):\n",
        "        st.line_chart(filtered_data.set_index(x_column)[y_column])\n",
        "\n",
        "else:\n",
        "    st.write(\"Waiting for File Upload...\")"
      ],
      "metadata": {
        "id": "jR3GhRZcG--g",
        "outputId": "322558b0-2b3d-4b4a-fff3-9aa83146fd7d",
        "colab": {
          "base_uri": "https://localhost:8080/"
        }
      },
      "execution_count": 23,
      "outputs": [
        {
          "output_type": "stream",
          "name": "stdout",
          "text": [
            "Overwriting Data_Dashboard.py\n"
          ]
        }
      ]
    },
    {
      "cell_type": "code",
      "source": [
        "!streamlit run Data_Dashboard.py &>/dev/null&"
      ],
      "metadata": {
        "id": "R5lryd-iPuyY"
      },
      "execution_count": 24,
      "outputs": []
    },
    {
      "cell_type": "code",
      "source": [
        "public_url = ngrok.connect(addr=8501)\n",
        "public_url"
      ],
      "metadata": {
        "id": "l3Gh7rcYPxJX",
        "outputId": "c9a0cc92-be2c-4d55-ba0c-82dc48a3af93",
        "colab": {
          "base_uri": "https://localhost:8080/"
        }
      },
      "execution_count": 25,
      "outputs": [
        {
          "output_type": "execute_result",
          "data": {
            "text/plain": [
              "<NgrokTunnel: \"https://8e5a-34-16-155-240.ngrok-free.app\" -> \"http://localhost:8501\">"
            ]
          },
          "metadata": {},
          "execution_count": 25
        }
      ]
    }
  ]
}