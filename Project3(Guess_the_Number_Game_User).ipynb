{
  "nbformat": 4,
  "nbformat_minor": 0,
  "metadata": {
    "colab": {
      "provenance": [],
      "gpuType": "T4",
      "include_colab_link": true
    },
    "kernelspec": {
      "name": "python3",
      "display_name": "Python 3"
    },
    "language_info": {
      "name": "python"
    },
    "accelerator": "GPU"
  },
  "cells": [
    {
      "cell_type": "markdown",
      "metadata": {
        "id": "view-in-github",
        "colab_type": "text"
      },
      "source": [
        "<a href=\"https://colab.research.google.com/github/SHAHWAR-KIYANI/PIAIC_Certified_Agentic_AI_and_Robotic_Engineer/blob/main/Project3(Guess_the_Number_Game_User).ipynb\" target=\"_parent\"><img src=\"https://colab.research.google.com/assets/colab-badge.svg\" alt=\"Open In Colab\"/></a>"
      ]
    },
    {
      "cell_type": "markdown",
      "source": [
        "# Project3(Guess the Number Game - User)"
      ],
      "metadata": {
        "id": "SIFXX8hb49xu"
      }
    },
    {
      "cell_type": "code",
      "execution_count": null,
      "metadata": {
        "colab": {
          "base_uri": "https://localhost:8080/"
        },
        "id": "0-ZkravB4w77",
        "outputId": "9887dc63-87ba-4f4b-be3b-99a20d0a2859"
      },
      "outputs": [
        {
          "output_type": "stream",
          "name": "stdout",
          "text": [
            "Is 3 too high (H), too low (L), or correct (C)?? h\n",
            "Is 1 too high (H), too low (L), or correct (C)?? l\n",
            "Is 2 too high (H), too low (L), or correct (C)?? c\n",
            "Yay! The computer guessed your number, 2, correctly!\n"
          ]
        }
      ],
      "source": [
        "import random\n",
        "\n",
        "def computer_guess(x):\n",
        "    low = 1\n",
        "    high = x\n",
        "    feedback = ''\n",
        "    while feedback != 'c':\n",
        "      if low != high:\n",
        "        guess = random.randint(low, high)\n",
        "      else:\n",
        "        guess = low # could also be high b/c low = high\n",
        "      feedback = input(f'Is {guess} too high (H), too low (L), or correct (C)?? ').lower()\n",
        "      if feedback == 'h':\n",
        "            high = guess - 1\n",
        "      elif feedback == 'l':\n",
        "            low = guess + 1\n",
        "\n",
        "    print(f'Yay! The computer guessed your number, {guess}, correctly!')\n",
        "\n",
        "computer_guess(3)"
      ]
    }
  ]
}