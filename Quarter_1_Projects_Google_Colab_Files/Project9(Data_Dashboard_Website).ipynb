{
  "nbformat": 4,
  "nbformat_minor": 0,
  "metadata": {
    "colab": {
      "provenance": [],
      "gpuType": "T4",
      "include_colab_link": true
    },
    "kernelspec": {
      "name": "python3",
      "display_name": "Python 3"
    },
    "language_info": {
      "name": "python"
    },
    "accelerator": "GPU"
  },
  "cells": [
    {
      "cell_type": "markdown",
      "metadata": {
        "id": "view-in-github",
        "colab_type": "text"
      },
      "source": [
        "<a href=\"https://colab.research.google.com/github/SHAHWAR-KIYANI/PIAIC_Certified_Agentic_AI_and_Robotic_Engineer/blob/main/Project9(Data_Dashboard_Website).ipynb\" target=\"_parent\"><img src=\"https://colab.research.google.com/assets/colab-badge.svg\" alt=\"Open In Colab\"/></a>"
      ]
    },
    {
      "cell_type": "markdown",
      "source": [
        "# Project 9 (Data_Dashboard_Website)"
      ],
      "metadata": {
        "id": "3LfAj9iBctBL"
      }
    },
    {
      "cell_type": "code",
      "execution_count": null,
      "metadata": {
        "id": "4xq-gSiLWTpK"
      },
      "outputs": [],
      "source": [
        "!pip install streamlit"
      ]
    },
    {
      "cell_type": "code",
      "source": [
        "!pip install pyngrok"
      ],
      "metadata": {
        "collapsed": true,
        "id": "h3NwQ1zD2fsZ"
      },
      "execution_count": null,
      "outputs": []
    },
    {
      "cell_type": "code",
      "source": [
        "from google.colab import userdata\n",
        "userdata.get('pyngrok_authtoken2')"
      ],
      "metadata": {
        "id": "PgjKNQ5v8hv3"
      },
      "execution_count": null,
      "outputs": []
    },
    {
      "cell_type": "code",
      "source": [
        "!ngrok authtoken 2taKW2Q3EAmAKVvtx54Tug1eesc_2DrYsgQvcwFaLR5bDfubY"
      ],
      "metadata": {
        "id": "JEDgUdQS2oxZ"
      },
      "execution_count": null,
      "outputs": []
    },
    {
      "cell_type": "markdown",
      "source": [
        "In below links, click on the first link to view the output. Donot click on the localhost displayed link as the web app is served through the first link."
      ],
      "metadata": {
        "id": "cvSHAx-x3AOR"
      }
    },
    {
      "cell_type": "code",
      "source": [
        "from pyngrok import ngrok\n",
        "\n",
        "!streamlit run Data_Dashboard.py &>/dev/null&\n",
        "\n",
        "public_url = ngrok.connect(addr=8501)\n",
        "public_url\n"
      ],
      "metadata": {
        "id": "60Ops36Q2yoK",
        "colab": {
          "base_uri": "https://localhost:8080/"
        },
        "outputId": "de5147c1-42d6-4dea-994f-355f1c05444f"
      },
      "execution_count": 5,
      "outputs": [
        {
          "output_type": "execute_result",
          "data": {
            "text/plain": [
              "<NgrokTunnel: \"https://e031-34-124-240-102.ngrok-free.app\" -> \"http://localhost:8501\">"
            ]
          },
          "metadata": {},
          "execution_count": 5
        }
      ]
    },
    {
      "cell_type": "code",
      "source": [
        "# Note:\n",
        "\"\"\"\n",
        "If Data_Dashboard.py file could not be found or somehow is missing, then a file by the name Data_Dashboard.py can be created in the Left File section \\\n",
        "and following below code can be pasted there and then saving all the changes and running all the cells will resolve the issue \\\n",
        "and the streamlit output will be displayed. \\\n",
        "\\\n",
        "The Code: \\\n",
        "\"\"\"\n",
        "# import streamlit as st\n",
        "# import pandas as pd\n",
        "# import matplotlib as plt\n",
        "\n",
        "# st.title(\"Data DashBoard\")\n",
        "# uploaded_file = st.file_uploader(\"Choose a CSV File\", type=\"CSV\")\n",
        "\n",
        "# if uploaded_file is not None:\n",
        "#     df = pd.read_csv(uploaded_file)\n",
        "\n",
        "#     st.subheader(\"Data Preview\")\n",
        "#     st.write(df.head())\n",
        "\n",
        "#     st.subheader(\"Data Summary\")\n",
        "#     st.write(df.describe())\n",
        "\n",
        "#     st.subheader(\"Filter Data\")\n",
        "#     columns = list(df.columns)\n",
        "#     selected_column = st.selectbox(\"Select Column to Filter By:\", columns)\n",
        "#     unique_values = df[selected_column].unique()\n",
        "#     selected_value = st.selectbox(\"Select Value:\", unique_values)\n",
        "#     filtered_data = df[df[selected_column] == selected_value]\n",
        "#     st.write(filtered_data)\n",
        "\n",
        "#     st.subheader(\"Plot Data\")\n",
        "#     x_column = st.selectbox(\"Select X-Axis Column:\", columns)\n",
        "#     y_column = st.selectbox(\"Select Y-Axis Column:\", columns)\n",
        "#     if st.button(\"Generate Plot\"):\n",
        "#         st.line_chart(filtered_data.set_index(x_column)[y_column])\n",
        "\n",
        "# else:\n",
        "#     st.write(\"Waiting for File Upload...\")\n",
        "\n"
      ],
      "metadata": {
        "id": "jR3GhRZcG--g"
      },
      "execution_count": null,
      "outputs": []
    }
  ]
}