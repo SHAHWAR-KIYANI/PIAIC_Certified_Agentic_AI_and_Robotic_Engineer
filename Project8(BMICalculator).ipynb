{
  "nbformat": 4,
  "nbformat_minor": 0,
  "metadata": {
    "colab": {
      "provenance": [],
      "include_colab_link": true
    },
    "kernelspec": {
      "name": "python3",
      "display_name": "Python 3"
    },
    "language_info": {
      "name": "python"
    }
  },
  "cells": [
    {
      "cell_type": "markdown",
      "metadata": {
        "id": "view-in-github",
        "colab_type": "text"
      },
      "source": [
        "<a href=\"https://colab.research.google.com/github/SHAHWAR-KIYANI/PIAIC_Certified_Agentic_AI_and_Robotic_Engineer/blob/main/Project8(BMICalculator).ipynb\" target=\"_parent\"><img src=\"https://colab.research.google.com/assets/colab-badge.svg\" alt=\"Open In Colab\"/></a>"
      ]
    },
    {
      "cell_type": "markdown",
      "source": [
        "# Project 8 (BMI Calculator)"
      ],
      "metadata": {
        "id": "ze6kUkRkQkcC"
      }
    },
    {
      "cell_type": "code",
      "execution_count": null,
      "metadata": {
        "collapsed": true,
        "id": "gMZwzK3BO9Dw"
      },
      "outputs": [],
      "source": [
        "!pip install streamlit"
      ]
    },
    {
      "cell_type": "code",
      "source": [
        "!pip install pyngrok"
      ],
      "metadata": {
        "collapsed": true,
        "id": "dLAA1jkszYO3"
      },
      "execution_count": null,
      "outputs": []
    },
    {
      "cell_type": "code",
      "source": [
        "from google.colab import userdata\n",
        "userdata.get('pyngrok_authtoken')"
      ],
      "metadata": {
        "id": "O7iLkNNtzqzg",
        "collapsed": true
      },
      "execution_count": null,
      "outputs": []
    },
    {
      "cell_type": "code",
      "source": [
        "!ngrok authtoken 2tUnAfL1r3m4Oa5SLJaIXqynvbt_qCnuY5ECVdKnLvQSqqxo"
      ],
      "metadata": {
        "id": "5doMDfOezmkH",
        "collapsed": true
      },
      "execution_count": null,
      "outputs": []
    },
    {
      "cell_type": "code",
      "source": [
        "from pyngrok import ngrok"
      ],
      "metadata": {
        "id": "9mFCmArm0YlD"
      },
      "execution_count": null,
      "outputs": []
    },
    {
      "cell_type": "code",
      "source": [
        "!streamlit run BMI_Calculator.py &>/dev/null&"
      ],
      "metadata": {
        "id": "TnYk38BX0coH"
      },
      "execution_count": null,
      "outputs": []
    },
    {
      "cell_type": "code",
      "source": [
        "%%writefile BMI_Calculator.py\n",
        "import streamlit as st\n",
        "\n",
        "st.title(\"BMI Calculator\")\n",
        "st.write(\"------------------------------------\")\n",
        "\n",
        "height = st.slider(\"Enter Your Height (in cm):\",100,250,170)\n",
        "weight = st.slider(\"Enter Your Weight (in kg):\",40,200,70)\n",
        "\n",
        "bmi = weight / ((height/100)**2)\n",
        "st.write(f\"BMI: {bmi:.2f}\")\n",
        "\n",
        "st.write(\"------------------------------------\")\n",
        "st.title(\"BMI Categories\")\n",
        "st.write(\"------------------------------------\")\n",
        "st.write(\"Underweight = <18.5\")\n",
        "st.write(\"Normal weight = 18.5 – 24.9\")\n",
        "st.write(\"Overweight = 25 – 29.9\")\n",
        "st.write(\"Obesity = BMI of 30 or greater\")\n",
        "st.write(\"------------------------------------\")\n",
        "category = \"\"\n",
        "if bmi < 18.5:\n",
        "    category = \"Underweight\"\n",
        "elif bmi < 25:\n",
        "    category = \"Normal Weight\"\n",
        "elif bmi < 30:\n",
        "    category = \"Overweight\"\n",
        "else:\n",
        "    category = \"Obese\"\n",
        "\n",
        "st.write(f\"Your BMI is: {bmi:.2f} and you are {category}.\")\n",
        "st.write(\"------------------------------------\")\n"
      ],
      "metadata": {
        "id": "rE1oG0fnFL51"
      },
      "execution_count": null,
      "outputs": []
    },
    {
      "cell_type": "markdown",
      "source": [
        "In below links, click on the first link to view the output. Donot click on the localhost displayed link as the web app is served through the first link"
      ],
      "metadata": {
        "id": "9UIkNL-e1E7A"
      }
    },
    {
      "cell_type": "code",
      "source": [
        "public_url = ngrok.connect(addr=8501)\n",
        "print(\"Public URL: \",public_url)"
      ],
      "metadata": {
        "colab": {
          "base_uri": "https://localhost:8080/"
        },
        "id": "uuaBmj2a0o-L",
        "outputId": "0aa98d40-fb95-41c6-96ba-a441be1b58ff"
      },
      "execution_count": null,
      "outputs": [
        {
          "output_type": "execute_result",
          "data": {
            "text/plain": [
              "<NgrokTunnel: \"https://e646-35-231-218-135.ngrok-free.app\" -> \"http://localhost:8501\">"
            ]
          },
          "metadata": {},
          "execution_count": 20
        }
      ]
    }
  ]
}