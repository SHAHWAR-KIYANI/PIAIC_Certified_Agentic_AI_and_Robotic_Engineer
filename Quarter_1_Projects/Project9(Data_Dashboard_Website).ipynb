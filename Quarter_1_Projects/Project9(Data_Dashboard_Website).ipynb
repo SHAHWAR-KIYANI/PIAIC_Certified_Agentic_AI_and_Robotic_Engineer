{
  "nbformat": 4,
  "nbformat_minor": 0,
  "metadata": {
    "colab": {
      "provenance": [],
      "gpuType": "T4"
    },
    "kernelspec": {
      "name": "python3",
      "display_name": "Python 3"
    },
    "language_info": {
      "name": "python"
    },
    "accelerator": "GPU"
  },
  "cells": [
    {
      "cell_type": "markdown",
      "source": [
        "# Project 9 (Data_Dashboard_Website)"
      ],
      "metadata": {
        "id": "3LfAj9iBctBL"
      }
    },
    {
      "cell_type": "code",
      "execution_count": null,
      "metadata": {
        "id": "4xq-gSiLWTpK"
      },
      "outputs": [],
      "source": [
        "!pip install streamlit"
      ]
    },
    {
      "cell_type": "code",
      "source": [
        "!pip install pyngrok"
      ],
      "metadata": {
        "collapsed": true,
        "id": "h3NwQ1zD2fsZ"
      },
      "execution_count": null,
      "outputs": []
    },
    {
      "cell_type": "code",
      "source": [
        "from google.colab import userdata\n",
        "userdata.get('pyngrok_authtoken2')"
      ],
      "metadata": {
        "colab": {
          "base_uri": "https://localhost:8080/",
          "height": 35
        },
        "id": "PgjKNQ5v8hv3",
        "outputId": "4e05f72d-a61c-4f32-817a-3339a8f2943b"
      },
      "execution_count": null,
      "outputs": [
        {
          "output_type": "execute_result",
          "data": {
            "text/plain": [
              "'2taKW2Q3EAmAKVvtx54Tug1eesc_2DrYsgQvcwFaLR5bDfubY'"
            ],
            "application/vnd.google.colaboratory.intrinsic+json": {
              "type": "string"
            }
          },
          "metadata": {},
          "execution_count": 6
        }
      ]
    },
    {
      "cell_type": "code",
      "source": [
        "!ngrok authtoken 2taKW2Q3EAmAKVvtx54Tug1eesc_2DrYsgQvcwFaLR5bDfubY"
      ],
      "metadata": {
        "colab": {
          "base_uri": "https://localhost:8080/"
        },
        "id": "JEDgUdQS2oxZ",
        "outputId": "5923eb0d-2cba-49bd-fa29-0e21839c5263"
      },
      "execution_count": null,
      "outputs": [
        {
          "output_type": "stream",
          "name": "stdout",
          "text": [
            "Authtoken saved to configuration file: /root/.config/ngrok/ngrok.yml\n"
          ]
        }
      ]
    },
    {
      "cell_type": "markdown",
      "source": [
        "In below links, click on the first link to view the output. Donot click on the localhost displayed link as the web app is served through the first link."
      ],
      "metadata": {
        "id": "cvSHAx-x3AOR"
      }
    },
    {
      "cell_type": "code",
      "source": [
        "from pyngrok import ngrok\n",
        "\n",
        "!streamlit run Data_Dashboard.py &>/dev/null&\n",
        "\n",
        "public_url = ngrok.connect(addr=8501)\n",
        "public_url\n"
      ],
      "metadata": {
        "id": "60Ops36Q2yoK",
        "colab": {
          "base_uri": "https://localhost:8080/"
        },
        "outputId": "46214112-4c80-415b-84eb-59a70a291352"
      },
      "execution_count": null,
      "outputs": [
        {
          "output_type": "execute_result",
          "data": {
            "text/plain": [
              "<NgrokTunnel: \"https://9227-34-16-244-17.ngrok-free.app\" -> \"http://localhost:8501\">"
            ]
          },
          "metadata": {},
          "execution_count": 8
        }
      ]
    }
  ]
}