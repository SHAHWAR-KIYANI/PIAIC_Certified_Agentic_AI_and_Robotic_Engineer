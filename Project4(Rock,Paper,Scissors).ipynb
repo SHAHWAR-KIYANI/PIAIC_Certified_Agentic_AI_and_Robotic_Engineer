{
  "nbformat": 4,
  "nbformat_minor": 0,
  "metadata": {
    "colab": {
      "provenance": [],
      "gpuType": "T4",
      "include_colab_link": true
    },
    "kernelspec": {
      "name": "python3",
      "display_name": "Python 3"
    },
    "language_info": {
      "name": "python"
    },
    "accelerator": "GPU"
  },
  "cells": [
    {
      "cell_type": "markdown",
      "metadata": {
        "id": "view-in-github",
        "colab_type": "text"
      },
      "source": [
        "<a href=\"https://colab.research.google.com/github/SHAHWAR-KIYANI/PIAIC_Certified_Agentic_AI_and_Robotic_Engineer/blob/main/Project4(Rock%2CPaper%2CScissors).ipynb\" target=\"_parent\"><img src=\"https://colab.research.google.com/assets/colab-badge.svg\" alt=\"Open In Colab\"/></a>"
      ]
    },
    {
      "cell_type": "markdown",
      "source": [
        "# Project4(Rock,Paper,Scissors)"
      ],
      "metadata": {
        "id": "Yl9_eyBOGqOQ"
      }
    },
    {
      "cell_type": "code",
      "execution_count": null,
      "metadata": {
        "id": "X8qGDwifGPB5",
        "colab": {
          "base_uri": "https://localhost:8080/"
        },
        "outputId": "236bc123-0170-4b76-cf15-be61cf2705b3"
      },
      "outputs": [
        {
          "output_type": "stream",
          "name": "stdout",
          "text": [
            "Welcome to Rock, Paper, Scissors!\n",
            "Enter rock, paper, or scissors: scissors\n",
            "You chose: scissors\n",
            "Computer chose: rock\n",
            "Computer wins!\n",
            "Do you want to play again? (yes/y or no/n): yes\n",
            "Welcome to Rock, Paper, Scissors!\n",
            "Enter rock, paper, or scissors: rock\n",
            "You chose: rock\n",
            "Computer chose: paper\n",
            "Computer wins!\n",
            "Do you want to play again? (yes/y or no/n): y\n",
            "Welcome to Rock, Paper, Scissors!\n",
            "Enter rock, paper, or scissors: rock\n",
            "You chose: rock\n",
            "Computer chose: scissors\n",
            "You win!\n",
            "Do you want to play again? (yes/y or no/n): no\n",
            "Thanks for playing!\n"
          ]
        }
      ],
      "source": [
        "import random\n",
        "\n",
        "def get_user_choice():\n",
        "    choices = ['rock', 'paper', 'scissors']\n",
        "    while True:\n",
        "        user_choice = input(\"Enter rock, paper, or scissors: \").lower()\n",
        "        if user_choice in choices:\n",
        "            return user_choice\n",
        "        print(\"Invalid choice! Please enter rock, paper, or scissors.\")\n",
        "\n",
        "def get_computer_choice():\n",
        "    return random.choice(['rock', 'paper', 'scissors'])\n",
        "\n",
        "def determine_winner(user, computer):\n",
        "    if user == computer:\n",
        "        return \"It's a tie!\"\n",
        "    elif (user == 'rock' and computer == 'scissors') or \\\n",
        "         (user == 'scissors' and computer == 'paper') or \\\n",
        "         (user == 'paper' and computer == 'rock'):\n",
        "        return \"You win!\"\n",
        "    else:\n",
        "        return \"Computer wins!\"\n",
        "\n",
        "def play_game():\n",
        "    while True:\n",
        "        print(\"Welcome to Rock, Paper, Scissors!\")\n",
        "        user_choice = get_user_choice()\n",
        "        computer_choice = get_computer_choice()\n",
        "        print(f\"You chose: {user_choice}\")\n",
        "        print(f\"Computer chose: {computer_choice}\")\n",
        "        result = determine_winner(user_choice, computer_choice)\n",
        "        print(result)\n",
        "\n",
        "        while True:\n",
        "            play_again = input(\"Do you want to play again? (yes/y or no/n): \").lower()\n",
        "            if play_again in ['yes', 'y']:\n",
        "                break\n",
        "            elif play_again in ['no', 'n']:\n",
        "                print(\"Thanks for playing!\")\n",
        "                return\n",
        "            print(\"Invalid input! Please enter yes/y or no/n.\")\n",
        "\n",
        "if __name__ == \"__main__\":\n",
        "    play_game()"
      ]
    }
  ]
}